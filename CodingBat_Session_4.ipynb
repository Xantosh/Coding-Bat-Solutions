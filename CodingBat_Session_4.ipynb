{
  "nbformat": 4,
  "nbformat_minor": 0,
  "metadata": {
    "colab": {
      "name": "CodingBat Session 4.ipynb",
      "provenance": [],
      "authorship_tag": "ABX9TyOYotXFSABvSfdXKP7++qYM",
      "include_colab_link": true
    },
    "kernelspec": {
      "name": "python3",
      "display_name": "Python 3"
    }
  },
  "cells": [
    {
      "cell_type": "markdown",
      "metadata": {
        "id": "view-in-github",
        "colab_type": "text"
      },
      "source": [
        "<a href=\"https://colab.research.google.com/github/Xantosh/Coding-Bat-Solutions/blob/main/CodingBat_Session_4.ipynb\" target=\"_parent\"><img src=\"https://colab.research.google.com/assets/colab-badge.svg\" alt=\"Open In Colab\"/></a>"
      ]
    },
    {
      "cell_type": "markdown",
      "metadata": {
        "id": "q0Zm5_Wrk9LF"
      },
      "source": [
        "Given a non-empty string like \"Code\" return a string like \"CCoCodCode\".\r\n",
        "\r\n",
        "\r\n",
        "string_splosion('Code') → 'CCoCodCode'\r\n",
        "\r\n",
        "string_splosion('abc') → 'aababc'\r\n",
        "\r\n",
        "string_splosion('ab') → 'aab'"
      ]
    },
    {
      "cell_type": "code",
      "metadata": {
        "colab": {
          "base_uri": "https://localhost:8080/"
        },
        "id": "LcCCLD4sk2es",
        "outputId": "66ae512f-2f5c-48e4-8d88-28deeef71be4"
      },
      "source": [
        "def string_splosion(text):\r\n",
        "  new  = \"\"\r\n",
        "  for i in range(len(text)):\r\n",
        "    for j in range(i + 1):\r\n",
        "      new = new + text[j]\r\n",
        "  return new\r\n",
        "print(string_splosion('Code'))"
      ],
      "execution_count": null,
      "outputs": [
        {
          "output_type": "stream",
          "text": [
            "CCoCodCode\n"
          ],
          "name": "stdout"
        }
      ]
    },
    {
      "cell_type": "markdown",
      "metadata": {
        "id": "L3vusPSBm5tq"
      },
      "source": [
        "\r\n",
        "Given an \"out\" string length 4, such as \"<<>>\", and a word, return a new string where the word is in the middle of the out string, e.g. \"<<word>>\".\r\n",
        "\r\n",
        "\r\n",
        "make_out_word('<<>>', 'Yay') → '<<Yay>>'\r\n",
        "\r\n",
        "make_out_word('<<>>', 'WooHoo') → '<<WooHoo>>'\r\n",
        "\r\n",
        "make_out_word('[[]]', 'word') → '[[word]]'"
      ]
    },
    {
      "cell_type": "code",
      "metadata": {
        "colab": {
          "base_uri": "https://localhost:8080/"
        },
        "id": "Z3WtSE8wm55t",
        "outputId": "757254ac-77ae-4e1d-9293-4af52fb85630"
      },
      "source": [
        "def make_out_word(out , word):\r\n",
        "  return out[0] + out[1] + word + out[2] + out[3]\r\n",
        "\r\n",
        "\r\n",
        "#alt soln for long string\r\n",
        "def alt(out ,word):\r\n",
        "  half = \"\"\r\n",
        "  other = \"\"\r\n",
        "  for i in range(len(out) // 2):\r\n",
        "    half = half + out[i]\r\n",
        "  for j in range(len(out) //2,len(out)):\r\n",
        "    other = other + out[j]\r\n",
        "  total =  half + word + other\r\n",
        "  return total\r\n",
        "print(make_out_word('<<>>', 'Yay'))\r\n",
        "print(alt('<<>>', 'Yay'))"
      ],
      "execution_count": null,
      "outputs": [
        {
          "output_type": "stream",
          "text": [
            "<<Yay>>\n",
            "<<Yay>>\n"
          ],
          "name": "stdout"
        }
      ]
    },
    {
      "cell_type": "markdown",
      "metadata": {
        "id": "S8YAzZPkpOzH"
      },
      "source": [
        "\r\n",
        "Given 2 arrays of ints, a and b, return True if they have the same first element or they have the same last element. Both arrays will be length 1 or more.\r\n",
        "\r\n",
        "\r\n",
        "common_end([1, 2, 3], [7, 3]) → True\r\n",
        "\r\n",
        "common_end([1, 2, 3], [7, 3, 2]) → False\r\n",
        "\r\n",
        "common_end([1, 2, 3], [1, 3]) → True"
      ]
    },
    {
      "cell_type": "code",
      "metadata": {
        "colab": {
          "base_uri": "https://localhost:8080/"
        },
        "id": "zgYe89CVnEau",
        "outputId": "f5a45f49-b87a-4c69-e36d-3e80767010ea"
      },
      "source": [
        "def common_end(a, b):\r\n",
        "  if a[0] == b[0] or a[-1] == b[-1]:\r\n",
        "    return True\r\n",
        "  else:\r\n",
        "    return False\r\n",
        "print(common_end([1, 2, 3], [7, 3]))"
      ],
      "execution_count": null,
      "outputs": [
        {
          "output_type": "stream",
          "text": [
            "True\n"
          ],
          "name": "stdout"
        }
      ]
    },
    {
      "cell_type": "markdown",
      "metadata": {
        "id": "_pMN5L8PpgUX"
      },
      "source": [
        "\r\n",
        "The squirrels in Palo Alto spend most of the day playing. In particular, they play if the temperature is between 60 and 90 (inclusive). Unless it is summer, then the upper limit is 100 instead of 90. Given an int temperature and a boolean is_summer, return True if the squirrels play and False otherwise.\r\n",
        "\r\n",
        "\r\n",
        "squirrel_play(70, False) → True\r\n",
        "\r\n",
        "squirrel_play(95, False) → False\r\n",
        "\r\n",
        "squirrel_play(95, True) → True"
      ]
    },
    {
      "cell_type": "code",
      "metadata": {
        "colab": {
          "base_uri": "https://localhost:8080/"
        },
        "id": "p7JTLluipghs",
        "outputId": "077ed29b-8d55-4a1e-bcf2-553a44b4378c"
      },
      "source": [
        "def squirrel_play(temp ,is_summer):\r\n",
        "  if is_summer:\r\n",
        "    return temp >= 60  and temp <= 100\r\n",
        "  else:\r\n",
        "    return temp >= 60 and temp <= 90\r\n",
        "print(squirrel_play(70,False))"
      ],
      "execution_count": null,
      "outputs": [
        {
          "output_type": "stream",
          "text": [
            "True\n"
          ],
          "name": "stdout"
        }
      ]
    },
    {
      "cell_type": "markdown",
      "metadata": {
        "id": "kR_b5ONMqjES"
      },
      "source": [
        "Given 3 int values, a b c, return their sum. However, if one of the values is 13 then it does not count towards the sum and values to its right do not count. So for example, if b is 13, then both b and c do not count.\r\n",
        "\r\n",
        "\r\n",
        "lucky_sum(1, 2, 3) → 6\r\n",
        "\r\n",
        "lucky_sum(1, 2, 13) → 3\r\n",
        "\r\n",
        "lucky_sum(1, 13, 3) → 1"
      ]
    },
    {
      "cell_type": "code",
      "metadata": {
        "colab": {
          "base_uri": "https://localhost:8080/"
        },
        "id": "k4bh90MrqnS3",
        "outputId": "201444f8-8e70-4af0-8417-ff56bdeb137c"
      },
      "source": [
        "def lucky_sum(a,b,c):\r\n",
        "  if a == 13:\r\n",
        "    return 0\r\n",
        "  elif b == 13:\r\n",
        "    return a\r\n",
        "  elif c == 13:\r\n",
        "    return a+b\r\n",
        "  else:\r\n",
        "    return a+b+c\r\n",
        "print(lucky_sum(1,2,3))"
      ],
      "execution_count": null,
      "outputs": [
        {
          "output_type": "stream",
          "text": [
            "6\n"
          ],
          "name": "stdout"
        }
      ]
    },
    {
      "cell_type": "markdown",
      "metadata": {
        "id": "RlyowX0KrZ1O"
      },
      "source": [
        "\r\n",
        "Return the number of times that the string \"code\" appears anywhere in the given string, except we'll accept any letter for the 'd', so \"cope\" and \"cooe\" count.\r\n",
        "\r\n",
        "\r\n",
        "count_code('aaacodebbb') → 1\r\n",
        "\r\n",
        "count_code('codexxcode') → 2\r\n",
        "\r\n",
        "count_code('cozexxcope') → 2\r\n"
      ]
    },
    {
      "cell_type": "code",
      "metadata": {
        "colab": {
          "base_uri": "https://localhost:8080/"
        },
        "id": "BckR2GoirZYc",
        "outputId": "15b545a9-468b-4dac-b562-d0c5f5c6094d"
      },
      "source": [
        "def count_code(str1):\r\n",
        "  plucked = \"\"\r\n",
        "  count = 0\r\n",
        "  i = 0\r\n",
        "  while (i <= len(str1) - 4):\r\n",
        "    for j in range(i , i+4):\r\n",
        "      plucked = plucked + str1[j]\r\n",
        "    if plucked == \"code\":\r\n",
        "      count += 1\r\n",
        "      i += 4\r\n",
        "    elif plucked[0] + plucked[1] + plucked[-1] == \"coe\":\r\n",
        "      count += 1\r\n",
        "      i += 4\r\n",
        "    else:\r\n",
        "      i += 1\r\n",
        "    plucked = \"\"\r\n",
        "  return count\r\n",
        "print(count_code('cozexxcope'))\r\n",
        "print(count_code('aaacodebbb'))\r\n",
        "    "
      ],
      "execution_count": null,
      "outputs": [
        {
          "output_type": "stream",
          "text": [
            "2\n",
            "1\n"
          ],
          "name": "stdout"
        }
      ]
    },
    {
      "cell_type": "markdown",
      "metadata": {
        "id": "uR3IKZ48zQK7"
      },
      "source": [
        "\r\n",
        "Return the sum of the numbers in the array, returning 0 for an empty array. Except the number 13 is very unlucky, so it does not count and numbers that come immediately after a 13 also do not count.\r\n",
        "\r\n",
        "\r\n",
        "sum13([1, 2, 2, 1]) → 6\r\n",
        "\r\n",
        "sum13([1, 1]) → 2\r\n",
        "\r\n",
        "sum13([1, 2, 2, 1, 13]) → 6"
      ]
    },
    {
      "cell_type": "code",
      "metadata": {
        "colab": {
          "base_uri": "https://localhost:8080/"
        },
        "id": "X3MgwhZ3zPtJ",
        "outputId": "3168b2d1-97da-4619-e570-8bbc7c69f5d3"
      },
      "source": [
        "def sum13(nums):\r\n",
        "  sum = 0\r\n",
        "  if len(nums) == 0:\r\n",
        "    return 0\r\n",
        "  else:\r\n",
        "    for i in range(len(nums)):\r\n",
        "      if nums[i] == 13 and  i != len(nums) - 1:\r\n",
        "        if nums[i + 1] == 13:\r\n",
        "          sum = sum\r\n",
        "        else:\r\n",
        "          sum = sum - nums[i+1]\r\n",
        "      elif nums[i] != 13:\r\n",
        "        sum = sum + nums[i]\r\n",
        "  return sum\r\n",
        "print(sum13([13]))\r\n",
        "\r\n"
      ],
      "execution_count": 67,
      "outputs": [
        {
          "output_type": "stream",
          "text": [
            "0\n"
          ],
          "name": "stdout"
        }
      ]
    }
  ]
}