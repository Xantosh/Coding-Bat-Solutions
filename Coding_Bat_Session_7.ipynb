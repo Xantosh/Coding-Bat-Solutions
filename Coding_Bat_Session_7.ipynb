{
  "nbformat": 4,
  "nbformat_minor": 0,
  "metadata": {
    "colab": {
      "name": "Coding Bat Session 7.ipynb",
      "provenance": [],
      "authorship_tag": "ABX9TyPt0NteFyfsid7AA9rhB6KJ",
      "include_colab_link": true
    },
    "kernelspec": {
      "name": "python3",
      "display_name": "Python 3"
    }
  },
  "cells": [
    {
      "cell_type": "markdown",
      "metadata": {
        "id": "view-in-github",
        "colab_type": "text"
      },
      "source": [
        "<a href=\"https://colab.research.google.com/github/Xantosh/Coding-Bat-Solutions/blob/main/Coding_Bat_Session_7.ipynb\" target=\"_parent\"><img src=\"https://colab.research.google.com/assets/colab-badge.svg\" alt=\"Open In Colab\"/></a>"
      ]
    },
    {
      "cell_type": "markdown",
      "metadata": {
        "id": "4p4XdcPtpCRw"
      },
      "source": [
        "Given an array of ints, return True if one of the first 4 elements in the array is a 9. The array length may be less than 4.\r\n",
        "\r\n",
        "\r\n",
        "array_front9([1, 2, 9, 3, 4]) → True\r\n",
        "\r\n",
        "array_front9([1, 2, 3, 4, 9]) → False\r\n",
        "\r\n",
        "array_front9([1, 2, 3, 4, 5]) → False"
      ]
    },
    {
      "cell_type": "code",
      "metadata": {
        "colab": {
          "base_uri": "https://localhost:8080/"
        },
        "id": "1i2sK4YxosRq",
        "outputId": "b0db4efe-8282-4dae-9d6b-99426be454f0"
      },
      "source": [
        "def array_front9(nums):\r\n",
        "  for i in range(len(nums)):\r\n",
        "    if  i < 4 and i >= 0:\r\n",
        "      if nums[i] == 9:\r\n",
        "        return True\r\n",
        "    else:\r\n",
        "      return False\r\n",
        "  return False\r\n",
        "print(array_front9([1,2,8,3,4,9]))\r\n",
        "  \r\n",
        "  "
      ],
      "execution_count": 2,
      "outputs": [
        {
          "output_type": "stream",
          "text": [
            "False\n"
          ],
          "name": "stdout"
        }
      ]
    },
    {
      "cell_type": "markdown",
      "metadata": {
        "id": "MgxCo-SXrEnl"
      },
      "source": [
        "Given a string of even length, return the first half. So the string \"WooHoo\" yields \"Woo\".\r\n",
        "\r\n",
        "\r\n",
        "first_half('WooHoo') → 'Woo'\r\n",
        "\r\n",
        "first_half('HelloThere') → 'Hello'\r\n",
        "\r\n",
        "first_half('abcdef') → 'abc'"
      ]
    },
    {
      "cell_type": "code",
      "metadata": {
        "colab": {
          "base_uri": "https://localhost:8080/"
        },
        "id": "ahys-j-YrGeh",
        "outputId": "0ffd1587-cf03-46b9-d360-a8b9db1a9ce3"
      },
      "source": [
        "def first_half(str):\r\n",
        "  return str[:len(str)//2]\r\n",
        "print(first_half('WooHoo'))"
      ],
      "execution_count": 3,
      "outputs": [
        {
          "output_type": "stream",
          "text": [
            "Woo\n"
          ],
          "name": "stdout"
        }
      ]
    },
    {
      "cell_type": "markdown",
      "metadata": {
        "id": "ngiaxzTyrumf"
      },
      "source": [
        "\r\n",
        "Given an array of ints length 3, return a new array with the elements in reverse order, so {1, 2, 3} becomes {3, 2, 1}.\r\n",
        "\r\n",
        "\r\n",
        "reverse3([1, 2, 3]) → [3, 2, 1]\r\n",
        "\r\n",
        "reverse3([5, 11, 9]) → [9, 11, 5]\r\n",
        "\r\n",
        "reverse3([7, 0, 0]) → [0, 0, 7]"
      ]
    },
    {
      "cell_type": "code",
      "metadata": {
        "colab": {
          "base_uri": "https://localhost:8080/"
        },
        "id": "5m4xT6hdrxVg",
        "outputId": "bd397c04-4985-4398-80fa-505fb9f08703"
      },
      "source": [
        "def reverse3(nums):\r\n",
        "  temp = nums[-1]\r\n",
        "  nums[-1] = nums[0]\r\n",
        "  nums[0] = temp\r\n",
        "  return nums\r\n",
        "print(reverse3([5,11,9]))"
      ],
      "execution_count": 4,
      "outputs": [
        {
          "output_type": "stream",
          "text": [
            "[9, 11, 5]\n"
          ],
          "name": "stdout"
        }
      ]
    },
    {
      "cell_type": "markdown",
      "metadata": {
        "id": "-BpP5Sy2tCAF"
      },
      "source": [
        "Given a day of the week encoded as 0=Sun, 1=Mon, 2=Tue, ...6=Sat, and a boolean indicating if we are on vacation, return a string of the form \"7:00\" indicating when the alarm clock should ring. Weekdays, the alarm should be \"7:00\" and on the weekend it should be \"10:00\". Unless we are on vacation -- then on weekdays it should be \"10:00\" and weekends it should be \"off\".\r\n",
        "\r\n",
        "\r\n",
        "alarm_clock(1, False) → '7:00'\r\n",
        "\r\n",
        "alarm_clock(5, False) → '7:00'\r\n",
        "\r\n",
        "alarm_clock(0, False) → '10:00'"
      ]
    },
    {
      "cell_type": "code",
      "metadata": {
        "colab": {
          "base_uri": "https://localhost:8080/"
        },
        "id": "KdDwndNctGC9",
        "outputId": "e45822ec-10be-4125-cfae-9a1eb5a2fe07"
      },
      "source": [
        "def alarm_clock(day, vacation):\r\n",
        "  if vacation :\r\n",
        "    if day >= 1 and day <=5:\r\n",
        "      return \"10:00\"\r\n",
        "    else:\r\n",
        "      return \"off\"\r\n",
        "  else:\r\n",
        "    if day >= 1 and day <= 5:\r\n",
        "      return \"7:00\"\r\n",
        "    else:\r\n",
        "      return \"10:00\"\r\n",
        "print(alarm_clock(1,False))"
      ],
      "execution_count": 5,
      "outputs": [
        {
          "output_type": "stream",
          "text": [
            "7:00\n"
          ],
          "name": "stdout"
        }
      ]
    },
    {
      "cell_type": "markdown",
      "metadata": {
        "id": "YunfAEu95ZMZ"
      },
      "source": [
        "Given three ints, a b c, return True if one of b or c is \"close\" (differing from a by at most 1), while the other is \"far\", differing from both other values by 2 or more. Note: abs(num) computes the absolute value of a number.\r\n",
        "\r\n",
        "\r\n",
        "close_far(1, 2, 10) → True\r\n",
        "\r\n",
        "close_far(1, 2, 3) → False\r\n",
        "\r\n",
        "close_far(4, 1, 3) → True"
      ]
    },
    {
      "cell_type": "code",
      "metadata": {
        "colab": {
          "base_uri": "https://localhost:8080/"
        },
        "id": "7ixS8gnj5YpH",
        "outputId": "42216364-fc71-430e-ed0c-04242ba2d8c3"
      },
      "source": [
        "def close_far(a, b, c):\r\n",
        "  if abs(a - b) <= 1 and abs(a - c) >= 2 and abs(b - c) >= 2:\r\n",
        "    return True\r\n",
        "  if abs(a - c) <= 1 and abs( a - b) >= 2 and abs(b - c) >= 2:\r\n",
        "    return True\r\n",
        "  else:\r\n",
        "    return False\r\n",
        "print(close_far(1,2,10))"
      ],
      "execution_count": 6,
      "outputs": [
        {
          "output_type": "stream",
          "text": [
            "True\n"
          ],
          "name": "stdout"
        }
      ]
    }
  ]
}