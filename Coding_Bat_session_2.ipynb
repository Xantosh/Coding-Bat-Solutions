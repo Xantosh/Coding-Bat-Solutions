{
  "nbformat": 4,
  "nbformat_minor": 0,
  "metadata": {
    "colab": {
      "name": "Coding Bat session 2.ipynb",
      "provenance": [],
      "authorship_tag": "ABX9TyMjdEfYcHd+BfqYXgJ2sbxa",
      "include_colab_link": true
    },
    "kernelspec": {
      "name": "python3",
      "display_name": "Python 3"
    }
  },
  "cells": [
    {
      "cell_type": "markdown",
      "metadata": {
        "id": "view-in-github",
        "colab_type": "text"
      },
      "source": [
        "<a href=\"https://colab.research.google.com/github/Xantosh/Coding-Bat-Solutions/blob/main/Coding_Bat_session_2.ipynb\" target=\"_parent\"><img src=\"https://colab.research.google.com/assets/colab-badge.svg\" alt=\"Open In Colab\"/></a>"
      ]
    },
    {
      "cell_type": "markdown",
      "metadata": {
        "id": "PLSVzQxWZDSM"
      },
      "source": [
        "\r\n",
        "Given a string and a non-negative int n, we'll say that the front of the string is the first 3 chars, or whatever is there if the string is less than length 3. Return n copies of the front;\r\n",
        "\r\n",
        "\r\n",
        "front_times('Chocolate', 2) → 'ChoCho'\r\n",
        "\r\n",
        "front_times('Chocolate', 3) → 'ChoChoCho'\r\n",
        "\r\n",
        "front_times('Abc', 3) → 'AbcAbcAbc'"
      ]
    },
    {
      "cell_type": "code",
      "metadata": {
        "colab": {
          "base_uri": "https://localhost:8080/"
        },
        "id": "ic5AIiebY0Ur",
        "outputId": "575c3620-0abc-4e4e-8037-2b58048e3011"
      },
      "source": [
        "def front_times(s,n):\r\n",
        "    if len(s) <= 3:\r\n",
        "        return s * n\r\n",
        "    else:\r\n",
        "        return s[:3] * n\r\n",
        "print(front_times('Chocolate', 2))\r\n",
        "print(front_times('Chocolate', 3))\r\n",
        "print(front_times('Abc', 3))\r\n"
      ],
      "execution_count": null,
      "outputs": [
        {
          "output_type": "stream",
          "text": [
            "ChoCho\n",
            "ChoChoCho\n",
            "AbcAbcAbc\n"
          ],
          "name": "stdout"
        }
      ]
    },
    {
      "cell_type": "markdown",
      "metadata": {
        "id": "gupv9xRPaRKM"
      },
      "source": [
        "Given two strings, a and b, return the result of putting them together in the order abba, e.g. \"Hi\" and \"Bye\" returns \"HiByeByeHi\".\r\n",
        "\r\n",
        "\r\n",
        "make_abba('Hi', 'Bye') → 'HiByeByeHi'\r\n",
        "\r\n",
        "make_abba('Yo', 'Alice') → 'YoAliceAliceYo'\r\n",
        "\r\n",
        "make_abba('What', 'Up') → 'WhatUpUpWhat'"
      ]
    },
    {
      "cell_type": "code",
      "metadata": {
        "colab": {
          "base_uri": "https://localhost:8080/"
        },
        "id": "q__An-a4aW13",
        "outputId": "010c31f1-2276-4539-f4f4-101f7369f60d"
      },
      "source": [
        "def make_abba(a,b):\r\n",
        "    return a+b+b+a\r\n",
        "print(make_abba('Hi', 'Bye'))\r\n",
        "\r\n",
        "print(make_abba('Yo', 'Alice'))\r\n",
        "print(make_abba('What', 'Up'))\r\n",
        "\r\n"
      ],
      "execution_count": null,
      "outputs": [
        {
          "output_type": "stream",
          "text": [
            "HiByeByeHi\n",
            "YoAliceAliceYo\n",
            "WhatUpUpWhat\n"
          ],
          "name": "stdout"
        }
      ]
    },
    {
      "cell_type": "markdown",
      "metadata": {
        "id": "7k6-vpIwbMow"
      },
      "source": [
        "\r\n",
        "Given an array of ints, return True if the array is length 1 or more, and the first element and the last element are equal.\r\n",
        "\r\n",
        "\r\n",
        "same_first_last([1, 2, 3]) → False\r\n",
        "\r\n",
        "same_first_last([1, 2, 3, 1]) → True\r\n",
        "\r\n",
        "same_first_last([1, 2, 1]) → True"
      ]
    },
    {
      "cell_type": "code",
      "metadata": {
        "colab": {
          "base_uri": "https://localhost:8080/"
        },
        "id": "RzFELhtgbVXg",
        "outputId": "b88becd4-f231-4e76-fe8b-8d5c208b03eb"
      },
      "source": [
        "def same_first_last(nums):\r\n",
        "    return (len(nums) >= 1) and (nums[0] == nums[-1])\r\n",
        "print(same_first_last([1, 2, 3]))\r\n",
        "print(same_first_last([1, 2, 3, 1]))\r\n",
        "print(same_first_last([1, 2, 1]))\r\n"
      ],
      "execution_count": null,
      "outputs": [
        {
          "output_type": "stream",
          "text": [
            "False\n",
            "True\n",
            "True\n"
          ],
          "name": "stdout"
        }
      ]
    },
    {
      "cell_type": "markdown",
      "metadata": {
        "id": "w0NPBh3ocJiW"
      },
      "source": [
        "When squirrels get together for a party, they like to have cigars. A squirrel party is successful when the number of cigars is between 40 and 60, inclusive. Unless it is the weekend, in which case there is no upper bound on the number of cigars. Return True if the party with the given values is successful, or False otherwise.\r\n",
        "\r\n",
        "\r\n",
        "cigar_party(30, False) → False\r\n",
        "\r\n",
        "cigar_party(50, False) → True\r\n",
        "\r\n",
        "cigar_party(70, True) → True"
      ]
    },
    {
      "cell_type": "code",
      "metadata": {
        "colab": {
          "base_uri": "https://localhost:8080/"
        },
        "id": "e4IhDdZKcQKF",
        "outputId": "46517797-8c1b-4f87-d939-17527aa994d8"
      },
      "source": [
        "def cigar_party(cigars,is_weekend):\r\n",
        "    if is_weekend == True and cigars >= 40:\r\n",
        "        return True\r\n",
        "    else:\r\n",
        "        return (cigars >= 40 and cigars <= 60) and not is_weekend\r\n",
        "\r\n",
        "print(cigar_party(30, False))\r\n",
        "print(cigar_party(50, False))\r\n",
        "print(cigar_party(70, True))\r\n"
      ],
      "execution_count": null,
      "outputs": [
        {
          "output_type": "stream",
          "text": [
            "False\n",
            "True\n",
            "True\n"
          ],
          "name": "stdout"
        }
      ]
    },
    {
      "cell_type": "markdown",
      "metadata": {
        "id": "2b-c36saeGbT"
      },
      "source": [
        "\r\n",
        "We want to make a row of bricks that is goal inches long. We have a number of small bricks (1 inch each) and big bricks (5 inches each). Return True if it is possible to make the goal by choosing from the given bricks. This is a little harder than it looks and can be done without any loops. \r\n",
        "\r\n",
        "\r\n",
        "make_bricks(3, 1, 8) → True\r\n",
        "\r\n",
        "make_bricks(3, 1, 9) → False\r\n",
        "\r\n",
        "make_bricks(3, 2, 10) → True"
      ]
    },
    {
      "cell_type": "code",
      "metadata": {
        "colab": {
          "base_uri": "https://localhost:8080/"
        },
        "id": "LazVhSGKeK5I",
        "outputId": "f37cc936-100b-4ce9-8628-21c7ece9f059"
      },
      "source": [
        "def make_bricks(small,big,goal):\r\n",
        "    d = goal // 5\r\n",
        "    r = goal % 5\r\n",
        "    if r == 0 and big >= d:\r\n",
        "        return True\r\n",
        "    elif small >= goal:\r\n",
        "        return True\r\n",
        "    elif r != 0:\r\n",
        "        if big >= d and (goal - 5 * d <= small):\r\n",
        "            return True\r\n",
        "        elif big < d and (goal - 5 * big <= small):\r\n",
        "            return True\r\n",
        "        else:\r\n",
        "            return False\r\n",
        "    elif r == 0 and big < d:\r\n",
        "        if (goal - 5*big <= small):\r\n",
        "            return True\r\n",
        "        else:\r\n",
        "            return False\r\n",
        "    else:\r\n",
        "        return False\r\n",
        "print(make_bricks(100,0,99))"
      ],
      "execution_count": null,
      "outputs": [
        {
          "output_type": "stream",
          "text": [
            "True\n"
          ],
          "name": "stdout"
        }
      ]
    },
    {
      "cell_type": "markdown",
      "metadata": {
        "id": "_PfZTFXZZCMu"
      },
      "source": [
        "\r\n",
        "Return the number of times that the string \"hi\" appears anywhere in the given string.\r\n",
        "\r\n",
        "\r\n",
        "count_hi('abc hi ho') → 1\r\n",
        "\r\n",
        "count_hi('ABChi hi') → 2\r\n",
        "\r\n",
        "count_hi('hihi') → 2"
      ]
    },
    {
      "cell_type": "code",
      "metadata": {
        "id": "ERKBRG80ZyeM",
        "colab": {
          "base_uri": "https://localhost:8080/"
        },
        "outputId": "64384453-5df2-4b88-8b7e-2681958e5446"
      },
      "source": [
        "def count_hi(stri):\r\n",
        "    i = 0 \r\n",
        "    count = 0 \r\n",
        "    while (i < len(stri)-1):\r\n",
        "        if stri[i] == \"h\" and stri[i+1] == \"i\":\r\n",
        "            count += 1\r\n",
        "            i += 2\r\n",
        "        else:\r\n",
        "            i += 1\r\n",
        "    return count\r\n",
        "print(count_hi(\"ABChi hi\"))\r\n",
        "\r\n",
        "#Alt Solution\r\n",
        "def counti(stri):\r\n",
        "    text = stri\r\n",
        "    n = text.count(\"hi\")\r\n",
        "    return n\r\n",
        "print(counti(\"ABChi hi\"))\r\n",
        "\r\n"
      ],
      "execution_count": 21,
      "outputs": [
        {
          "output_type": "stream",
          "text": [
            "2\n",
            "2\n"
          ],
          "name": "stdout"
        }
      ]
    },
    {
      "cell_type": "markdown",
      "metadata": {
        "id": "VBY7L7ztoHQJ"
      },
      "source": [
        "\r\n",
        "Given an array length 1 or more of ints, return the difference between the largest and smallest values in the array. Note: the built-in min(v1, v2) and max(v1, v2) functions return the smaller or larger of two values.\r\n",
        "\r\n",
        "\r\n",
        "big_diff([10, 3, 5, 6]) → 7\r\n",
        "\r\n",
        "big_diff([7, 2, 10, 9]) → 8\r\n",
        "\r\n",
        "big_diff([2, 10, 7, 2]) → 8"
      ]
    },
    {
      "cell_type": "code",
      "metadata": {
        "colab": {
          "base_uri": "https://localhost:8080/"
        },
        "id": "redwMr3UoMzM",
        "outputId": "775f275e-23d2-455e-e1e6-521345cc7ed4"
      },
      "source": [
        "def big_diff(num):\r\n",
        "    greatest = num[0]\r\n",
        "    smallest = num[0]\r\n",
        "    for n in num:\r\n",
        "        if n > greatest:\r\n",
        "            greatest = n\r\n",
        "        elif n < smallest:\r\n",
        "            smallest = n\r\n",
        "    difference  = greatest - smallest\r\n",
        "    return difference\r\n",
        "print(big_diff([10, 3, 5, 6]))\r\n",
        "print(diff([10, 3, 5, 6]))\r\n",
        "\r\n",
        "\r\n",
        "#Alt solution\r\n",
        "def diff(num):\r\n",
        "    g = max(num)\r\n",
        "    l = min(num)\r\n",
        "    d = g - l\r\n",
        "    return d\r\n",
        "\r\n",
        "    \r\n",
        "    "
      ],
      "execution_count": 22,
      "outputs": [
        {
          "output_type": "stream",
          "text": [
            "7\n",
            "7\n"
          ],
          "name": "stdout"
        }
      ]
    }
  ]
}