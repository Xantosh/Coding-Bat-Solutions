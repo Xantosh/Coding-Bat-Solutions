{
  "nbformat": 4,
  "nbformat_minor": 0,
  "metadata": {
    "colab": {
      "name": "Coding Bat Session 8.ipynb",
      "provenance": [],
      "authorship_tag": "ABX9TyP84PQG8N8wzYFpYaBlSVnB",
      "include_colab_link": true
    },
    "kernelspec": {
      "name": "python3",
      "display_name": "Python 3"
    }
  },
  "cells": [
    {
      "cell_type": "markdown",
      "metadata": {
        "id": "view-in-github",
        "colab_type": "text"
      },
      "source": [
        "<a href=\"https://colab.research.google.com/github/Xantosh/Coding-Bat-Solutions/blob/main/Coding_Bat_Session_8.ipynb\" target=\"_parent\"><img src=\"https://colab.research.google.com/assets/colab-badge.svg\" alt=\"Open In Colab\"/></a>"
      ]
    },
    {
      "cell_type": "markdown",
      "metadata": {
        "id": "HknqWMTl-ns8"
      },
      "source": [
        "\r\n",
        "Given an array of ints, return True if the sequence of numbers 1, 2, 3 appears in the array somewhere.\r\n",
        "\r\n",
        "\r\n",
        "array123([1, 1, 2, 3, 1]) → True\r\n",
        "\r\n",
        "array123([1, 1, 2, 4, 1]) → False\r\n",
        "\r\n",
        "array123([1, 1, 2, 1, 2, 3]) → True\r\n",
        "\r\n"
      ]
    },
    {
      "cell_type": "code",
      "metadata": {
        "colab": {
          "base_uri": "https://localhost:8080/"
        },
        "id": "ZKXcH2Ys9WOq",
        "outputId": "584d6a93-3a45-46fb-d587-4fd4faa84d15"
      },
      "source": [
        "def array123(nums):\r\n",
        "  for i in range(len(nums) - 2):\r\n",
        "    if nums[i] == 1 and nums[i+1] == 2 and nums[i+2] == 3:\r\n",
        "      return True\r\n",
        "  return False\r\n",
        "print(array123([1,2,2,3,1]))"
      ],
      "execution_count": 1,
      "outputs": [
        {
          "output_type": "stream",
          "text": [
            "False\n"
          ],
          "name": "stdout"
        }
      ]
    },
    {
      "cell_type": "markdown",
      "metadata": {
        "id": "5QTWTWjqBpfA"
      },
      "source": [
        "Given a string, return a version without the first and last char, so \"Hello\" yields \"ell\". The string length will be at least 2.\r\n",
        "\r\n",
        "\r\n",
        "without_end('Hello') → 'ell'\r\n",
        "\r\n",
        "without_end('java') → 'av'\r\n",
        "\r\n",
        "without_end('coding') → 'odin'"
      ]
    },
    {
      "cell_type": "code",
      "metadata": {
        "colab": {
          "base_uri": "https://localhost:8080/"
        },
        "id": "PnWziccKBun7",
        "outputId": "9b9fcecf-d274-4a7e-9c71-f4bc3f5a821d"
      },
      "source": [
        "def without_end(str):\r\n",
        "  new = \"\"\r\n",
        "  for i in range(1,len(str) - 1):\r\n",
        "    new = new + str[i]\r\n",
        "  return new\r\n",
        "print(without_end(\"Hello\"))\r\n",
        "\r\n",
        "  #alt soln using slicing operator\r\n",
        "def without(str):\r\n",
        "  return str[1:-1]\r\n",
        "print(without(\"Hello\"))"
      ],
      "execution_count": 3,
      "outputs": [
        {
          "output_type": "stream",
          "text": [
            "ell\n",
            "ell\n"
          ],
          "name": "stdout"
        }
      ]
    },
    {
      "cell_type": "markdown",
      "metadata": {
        "id": "WV2drn4fCnWV"
      },
      "source": [
        "Given an array of ints length 3, figure out which is larger, the first or last element in the array, and set all the other elements to be that value. Return the changed array.\r\n",
        "\r\n",
        "\r\n",
        "max_end3([1, 2, 3]) → [3, 3, 3]\r\n",
        "\r\n",
        "max_end3([11, 5, 9]) → [11, 11, 11]\r\n",
        "\r\n",
        "max_end3([2, 11, 3]) → [3, 3, 3]"
      ]
    },
    {
      "cell_type": "code",
      "metadata": {
        "colab": {
          "base_uri": "https://localhost:8080/"
        },
        "id": "TmQ6yDrVCsD9",
        "outputId": "02745324-076e-4758-bfd9-c1a2f339439e"
      },
      "source": [
        "def max_end3(nums):\r\n",
        "  first = nums[0]\r\n",
        "  last = nums[-1]\r\n",
        "  if first > last:\r\n",
        "    nums = [first,first,first]\r\n",
        "  else:\r\n",
        "    nums = [last,last,last]\r\n",
        "  return nums\r\n",
        "print(max_end3([1,2,3]))"
      ],
      "execution_count": 4,
      "outputs": [
        {
          "output_type": "stream",
          "text": [
            "[3, 3, 3]\n"
          ],
          "name": "stdout"
        }
      ]
    },
    {
      "cell_type": "markdown",
      "metadata": {
        "id": "zLcqxTX1Dfx1"
      },
      "source": [
        "The number 6 is a truly great number. Given two int values, a and b, return True if either one is 6. Or if their sum or difference is 6. Note: the function abs(num) computes the absolute value of a number.\r\n",
        "\r\n",
        "\r\n",
        "love6(6, 4) → True\r\n",
        "\r\n",
        "love6(4, 5) → False\r\n",
        "\r\n",
        "love6(1, 5) → True"
      ]
    },
    {
      "cell_type": "code",
      "metadata": {
        "colab": {
          "base_uri": "https://localhost:8080/"
        },
        "id": "yZgEAptvDiLt",
        "outputId": "d3ddb7a7-1b15-4313-d847-7bd7f2a4fae6"
      },
      "source": [
        "def love6(a, b):\r\n",
        "  if a == 6 or a + b == 6 or abs(a - b) == 6:\r\n",
        "    return True\r\n",
        "  elif  b == 6 or a + b == 6 or abs(a - b) == 6:\r\n",
        "    return True\r\n",
        "  else:\r\n",
        "    return False\r\n",
        "print(love6(6,4))"
      ],
      "execution_count": 5,
      "outputs": [
        {
          "output_type": "stream",
          "text": [
            "True\n"
          ],
          "name": "stdout"
        }
      ]
    },
    {
      "cell_type": "markdown",
      "metadata": {
        "id": "6UeDvqvhGR4R"
      },
      "source": [
        "We want make a package of goal kilos of chocolate. We have small bars (1 kilo each) and big bars (5 kilos each). Return the number of small bars to use, assuming we always use big bars before small bars. Return -1 if it can't be done.\r\n",
        "\r\n",
        "\r\n",
        "make_chocolate(4, 1, 9) → 4\r\n",
        "\r\n",
        "make_chocolate(4, 1, 10) → -1\r\n",
        "\r\n",
        "make_chocolate(4, 1, 7) → 2"
      ]
    },
    {
      "cell_type": "code",
      "metadata": {
        "colab": {
          "base_uri": "https://localhost:8080/"
        },
        "id": "xZjDx6T5GRXS",
        "outputId": "be0468ee-6a98-44d0-e8e3-49556753297d"
      },
      "source": [
        "def make_chocolate(small, big, goal):\r\n",
        "  if goal % 5 == 0:\r\n",
        "    if big >= (goal // 5):\r\n",
        "      return 0\r\n",
        "    else: #big < (goal // 5):\r\n",
        "      if big * 5 + small >= goal:\r\n",
        "        return goal  - (big * 5)\r\n",
        "      else:\r\n",
        "        return -1\r\n",
        "  else:\r\n",
        "    if (goal // 5) <= big:\r\n",
        "      if ((goal // 5) * 5) + small >= goal:\r\n",
        "        return goal - ((goal // 5) * 5)\r\n",
        "      else:\r\n",
        "        return -1\r\n",
        "    else:\r\n",
        "      if (big * 5) + small >= goal:\r\n",
        "        return goal - (big * 5)\r\n",
        "      else:\r\n",
        "        return -1\r\n",
        "    \r\n",
        "\r\n",
        "      \r\n",
        "     \r\n",
        "\r\n",
        "\r\n",
        "      \r\n",
        "\r\n",
        "print(make_chocolate(3,2,19))"
      ],
      "execution_count": 16,
      "outputs": [
        {
          "output_type": "stream",
          "text": [
            "-1\n"
          ],
          "name": "stdout"
        }
      ]
    }
  ]
}