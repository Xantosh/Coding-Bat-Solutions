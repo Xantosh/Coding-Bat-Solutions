{
  "nbformat": 4,
  "nbformat_minor": 0,
  "metadata": {
    "colab": {
      "name": "Final Session.ipynb",
      "provenance": [],
      "authorship_tag": "ABX9TyNISqcL03JMelcyMHo3+mPr",
      "include_colab_link": true
    },
    "kernelspec": {
      "name": "python3",
      "display_name": "Python 3"
    }
  },
  "cells": [
    {
      "cell_type": "markdown",
      "metadata": {
        "id": "view-in-github",
        "colab_type": "text"
      },
      "source": [
        "<a href=\"https://colab.research.google.com/github/Xantosh/Coding-Bat-Solutions/blob/main/Final_Session.ipynb\" target=\"_parent\"><img src=\"https://colab.research.google.com/assets/colab-badge.svg\" alt=\"Open In Colab\"/></a>"
      ]
    },
    {
      "cell_type": "markdown",
      "metadata": {
        "id": "0uRFAbrhGoSg"
      },
      "source": [
        "Given 2 strings, a and b, return the number of the positions where they contain the same length 2 substring. So \"xxcaazz\" and \"xxbaaz\" yields 3, since the \"xx\", \"aa\", and \"az\" substrings appear in the same place in both strings.\r\n",
        "\r\n",
        "\r\n",
        "string_match('xxcaazz', 'xxbaaz') → 3\r\n",
        "\r\n",
        "string_match('abc', 'abc') → 2\r\n",
        "\r\n",
        "string_match('abc', 'axc') → 0"
      ]
    },
    {
      "cell_type": "code",
      "metadata": {
        "colab": {
          "base_uri": "https://localhost:8080/"
        },
        "id": "KpFqPDMHGq2W",
        "outputId": "ba9e0ca9-3eee-473b-c0d1-cfb1f8b71a5e"
      },
      "source": [
        "def string_match(a, b):\r\n",
        "  i = 0\r\n",
        "  count = 0\r\n",
        "  while( i < len(a) - 1):\r\n",
        "    if a[i:i+2] == b[i:i+2]:\r\n",
        "      count += 1\r\n",
        "      i+= 1\r\n",
        "    else:\r\n",
        "      i += 1\r\n",
        "  return count\r\n",
        "print(string_match('xxcaazz', 'xxbaaz'))"
      ],
      "execution_count": null,
      "outputs": [
        {
          "output_type": "stream",
          "text": [
            "3\n"
          ],
          "name": "stdout"
        }
      ]
    },
    {
      "cell_type": "markdown",
      "metadata": {
        "id": "RZD9hl2qIc0Q"
      },
      "source": [
        "Given 2 strings, a and b, return a string of the form short+long+short, with the shorter string on the outside and the longer string on the inside. The strings will not be the same length, but they may be empty (length 0).\r\n",
        "\r\n",
        "\r\n",
        "combo_string('Hello', 'hi') → 'hiHellohi'\r\n",
        "\r\n",
        "combo_string('hi', 'Hello') → 'hiHellohi'\r\n",
        "\r\n",
        "combo_string('aaa', 'b') → 'baaab'"
      ]
    },
    {
      "cell_type": "code",
      "metadata": {
        "colab": {
          "base_uri": "https://localhost:8080/"
        },
        "id": "N4MrWnbyIhcz",
        "outputId": "33a1fd7b-9a8d-45ee-978f-661d4e7097b2"
      },
      "source": [
        "def combo_string(a, b):\r\n",
        "  if len(a) < len(b):\r\n",
        "    return a + b + a\r\n",
        "  else:\r\n",
        "    return b + a + b\r\n",
        "print(combo_string(\"Hello\",\"Hi\"))"
      ],
      "execution_count": null,
      "outputs": [
        {
          "output_type": "stream",
          "text": [
            "HiHelloHi\n"
          ],
          "name": "stdout"
        }
      ]
    },
    {
      "cell_type": "markdown",
      "metadata": {
        "id": "QIFp0aeuJa6f"
      },
      "source": [
        "Given an array of ints, return the sum of the first 2 elements in the array. If the array length is less than 2, just sum up the elements that exist, returning 0 if the array is length 0.\r\n",
        "\r\n",
        "\r\n",
        "sum2([1, 2, 3]) → 3\r\n",
        "\r\n",
        "sum2([1, 1]) → 2\r\n",
        "\r\n",
        "sum2([1, 1, 1, 1]) → 2"
      ]
    },
    {
      "cell_type": "code",
      "metadata": {
        "colab": {
          "base_uri": "https://localhost:8080/"
        },
        "id": "rYKhVuF_Jdaw",
        "outputId": "521876c4-72ac-4da1-eb44-007d901f6083"
      },
      "source": [
        "def sum2(nums):\r\n",
        "  if len(nums) == 0:\r\n",
        "    return 0\r\n",
        "  elif len(nums) == 1:\r\n",
        "    return nums[0]\r\n",
        "  else:\r\n",
        "    return nums[0] + nums[1]\r\n",
        "print(sum2([1,2,3]))"
      ],
      "execution_count": null,
      "outputs": [
        {
          "output_type": "stream",
          "text": [
            "3\n"
          ],
          "name": "stdout"
        }
      ]
    },
    {
      "cell_type": "markdown",
      "metadata": {
        "id": "rSRjgRwcKV2w"
      },
      "source": [
        "Given a number n, return True if n is in the range 1..10, inclusive. Unless outside_mode is True, in which case return True if the number is less or equal to 1, or greater or equal to 10.\r\n",
        "\r\n",
        "in1to10(5, False) → True\r\n",
        "\r\n",
        "in1to10(11, False) → False\r\n",
        "\r\n",
        "in1to10(11, True) → True"
      ]
    },
    {
      "cell_type": "code",
      "metadata": {
        "colab": {
          "base_uri": "https://localhost:8080/"
        },
        "id": "aGtmVD2GKVX6",
        "outputId": "2fdb090d-90e7-48f0-b49d-2155a0f068b1"
      },
      "source": [
        "def in1to10(n, outside_mode):\r\n",
        "  if outside_mode:\r\n",
        "   return n <= 1 or n >= 10\r\n",
        "     \r\n",
        "  else:\r\n",
        "    return (n >= 1 ) and (n <= 10)\r\n",
        "\r\n",
        "print(in1to10(11,False))"
      ],
      "execution_count": null,
      "outputs": [
        {
          "output_type": "stream",
          "text": [
            "False\n"
          ],
          "name": "stdout"
        }
      ]
    },
    {
      "cell_type": "markdown",
      "metadata": {
        "id": "fklwF_HxKqfh"
      },
      "source": [
        "Given 2 int arrays, a and b, each length 3, return a new array length 2 containing their middle elements.\r\n",
        "\r\n",
        "\r\n",
        "middle_way([1, 2, 3], [4, 5, 6]) → [2, 5]\r\n",
        "\r\n",
        "middle_way([7, 7, 7], [3, 8, 0]) → [7, 8]\r\n",
        "\r\n",
        "middle_way([5, 2, 9], [1, 4, 5]) → [2, 4]"
      ]
    },
    {
      "cell_type": "code",
      "metadata": {
        "colab": {
          "base_uri": "https://localhost:8080/"
        },
        "id": "ZEX3eJLWKqDW",
        "outputId": "9ba2c50b-0bc5-4d9d-bf81-2d8cec1b697f"
      },
      "source": [
        "def middle_way(a , b):\r\n",
        "  new  = []\r\n",
        "  new.append(a[1])\r\n",
        "  new.append(b[1])\r\n",
        "  return new\r\n",
        "print(middle_way([1,2,3],[4,5,6]))\r\n",
        "\r\n",
        "\r\n"
      ],
      "execution_count": null,
      "outputs": [
        {
          "output_type": "stream",
          "text": [
            "[2, 5]\n"
          ],
          "name": "stdout"
        }
      ]
    },
    {
      "cell_type": "markdown",
      "metadata": {
        "id": "EtgU-FJ5vVl8"
      },
      "source": [
        "Given 2 strings, return their concatenation, except omit the first char of each. The strings will be at least length 1.\r\n",
        "\r\n",
        "\r\n",
        "non_start('Hello', 'There') → 'ellohere'\r\n",
        "\r\n",
        "non_start('java', 'code') → 'avaode'\r\n",
        "\r\n",
        "non_start('shotl', 'java') → 'hotlava'"
      ]
    },
    {
      "cell_type": "code",
      "metadata": {
        "colab": {
          "base_uri": "https://localhost:8080/"
        },
        "id": "OXXJ8MrQvcOh",
        "outputId": "3d861e57-6aa8-46c4-a7db-92c4b62f6ab4"
      },
      "source": [
        "def non_start(a, b):\r\n",
        "  return a[1::] + b[1::]\r\n",
        "\r\n",
        "print(non_start(\"Hello\",\"There\"))"
      ],
      "execution_count": 1,
      "outputs": [
        {
          "output_type": "stream",
          "text": [
            "ellohere\n"
          ],
          "name": "stdout"
        }
      ]
    },
    {
      "cell_type": "markdown",
      "metadata": {
        "id": "7AwME8fPv4Yv"
      },
      "source": [
        "Given a string, return a \"rotated left 2\" version where the first 2 chars are moved to the end. The string length will be at least 2.\r\n",
        "\r\n",
        "\r\n",
        "left2('Hello') → 'lloHe'\r\n",
        "\r\n",
        "left2('java') → 'vaja'\r\n",
        "\r\n",
        "left2('Hi') → 'Hi'"
      ]
    },
    {
      "cell_type": "code",
      "metadata": {
        "colab": {
          "base_uri": "https://localhost:8080/"
        },
        "id": "K825j6x6v7EG",
        "outputId": "78b62ec8-17ee-4a8a-9dfa-a5a449fd845a"
      },
      "source": [
        "def left2(str):\r\n",
        "  return str[2:] + str[:2]\r\n",
        "print(left2(\"Hello\"))"
      ],
      "execution_count": 2,
      "outputs": [
        {
          "output_type": "stream",
          "text": [
            "lloHe\n"
          ],
          "name": "stdout"
        }
      ]
    },
    {
      "cell_type": "markdown",
      "metadata": {
        "id": "KdN9eEmBwk8z"
      },
      "source": [
        "Given an array of ints, return a new array length 2 containing the first and last elements from the original array. The original array will be length 1 or more.\r\n",
        "\r\n",
        "\r\n",
        "make_ends([1, 2, 3]) → [1, 3]\r\n",
        "\r\n",
        "make_ends([1, 2, 3, 4]) → [1, 4]\r\n",
        "\r\n",
        "make_ends([7, 4, 6, 2]) → [7, 2]"
      ]
    },
    {
      "cell_type": "code",
      "metadata": {
        "colab": {
          "base_uri": "https://localhost:8080/"
        },
        "id": "BuMw67yxxBou",
        "outputId": "9571dbb1-8a16-4b71-ac20-10a8d84d9d52"
      },
      "source": [
        "def make_ends(nums):\r\n",
        "  new = []\r\n",
        "  new.append(nums[0])\r\n",
        "  new.append(nums[-1])\r\n",
        "  return new\r\n",
        "print(make_ends([1, 2, 3]))"
      ],
      "execution_count": 3,
      "outputs": [
        {
          "output_type": "stream",
          "text": [
            "[1, 3]\n"
          ],
          "name": "stdout"
        }
      ]
    },
    {
      "cell_type": "markdown",
      "metadata": {
        "id": "zjIYhWWSxNCj"
      },
      "source": [
        "Given an int array length 2, return True if it contains a 2 or a 3.\r\n",
        "\r\n",
        "\r\n",
        "has23([2, 5]) → True\r\n",
        "\r\n",
        "has23([4, 3]) → True\r\n",
        "\r\n",
        "has23([4, 5]) → False\r\n"
      ]
    },
    {
      "cell_type": "code",
      "metadata": {
        "colab": {
          "base_uri": "https://localhost:8080/"
        },
        "id": "Q1baJ8WlxP1C",
        "outputId": "94ff6cec-e610-4189-d299-d6d4a4bbbf06"
      },
      "source": [
        "def has23(nums):\r\n",
        "  i = 0\r\n",
        "  while ( i < 2):\r\n",
        "    if nums[i] == 2 or nums[i] == 3:\r\n",
        "      return True\r\n",
        "    else:\r\n",
        "      i += 1\r\n",
        "  return False\r\n",
        "print(has23([2, 5]))"
      ],
      "execution_count": 4,
      "outputs": [
        {
          "output_type": "stream",
          "text": [
            "True\n"
          ],
          "name": "stdout"
        }
      ]
    },
    {
      "cell_type": "markdown",
      "metadata": {
        "id": "BmJy-t-1yR7S"
      },
      "source": [
        "Given a non-negative number \"num\", return True if num is within 2 of a multiple of 10.\r\n",
        "near_ten(12) → True\r\n",
        "\r\n",
        "near_ten(17) → False\r\n",
        "\r\n",
        "near_ten(19) → True"
      ]
    },
    {
      "cell_type": "code",
      "metadata": {
        "colab": {
          "base_uri": "https://localhost:8080/"
        },
        "id": "s5BA--kkyXJS",
        "outputId": "43be6982-b0e6-407d-8a92-0e522797d54f"
      },
      "source": [
        "def near_ten(num):\r\n",
        "  if num % 10 <= 2  or num % 10 >= 8:\r\n",
        "    return True\r\n",
        "  else:\r\n",
        "    return False\r\n",
        "print(near_ten(17))"
      ],
      "execution_count": 7,
      "outputs": [
        {
          "output_type": "stream",
          "text": [
            "False\n"
          ],
          "name": "stdout"
        }
      ]
    }
  ]
}