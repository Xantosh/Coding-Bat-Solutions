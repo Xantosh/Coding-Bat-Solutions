{
  "nbformat": 4,
  "nbformat_minor": 0,
  "metadata": {
    "colab": {
      "name": "CodingBat Session 6.ipynb",
      "provenance": [],
      "authorship_tag": "ABX9TyO1wOM02S4PJv2ZSCG6YWle",
      "include_colab_link": true
    },
    "kernelspec": {
      "name": "python3",
      "display_name": "Python 3"
    }
  },
  "cells": [
    {
      "cell_type": "markdown",
      "metadata": {
        "id": "view-in-github",
        "colab_type": "text"
      },
      "source": [
        "<a href=\"https://colab.research.google.com/github/Xantosh/Coding-Bat-Solutions/blob/main/CodingBat_Session_6.ipynb\" target=\"_parent\"><img src=\"https://colab.research.google.com/assets/colab-badge.svg\" alt=\"Open In Colab\"/></a>"
      ]
    },
    {
      "cell_type": "markdown",
      "metadata": {
        "id": "aL8SnTrCAOv_"
      },
      "source": [
        "Given an array of ints, return the number of 9's in the array.\r\n",
        "\r\n",
        "\r\n",
        "array_count9([1, 2, 9]) → 1\r\n",
        "\r\n",
        "array_count9([1, 9, 9]) → 2\r\n",
        "\r\n",
        "array_count9([1, 9, 9, 3, 9]) → 3"
      ]
    },
    {
      "cell_type": "code",
      "metadata": {
        "colab": {
          "base_uri": "https://localhost:8080/"
        },
        "id": "jFUrbMY-AG4y",
        "outputId": "a5a3dde3-0514-459e-9279-af1ad3dba81d"
      },
      "source": [
        "def array_count9(nums):\r\n",
        "  count = 0\r\n",
        "  for i in range(len(nums)):\r\n",
        "    if nums[i] == 9:\r\n",
        "      count += 1\r\n",
        "  return count\r\n",
        "print(array_count9([1,2,9]))"
      ],
      "execution_count": 1,
      "outputs": [
        {
          "output_type": "stream",
          "text": [
            "1\n"
          ],
          "name": "stdout"
        }
      ]
    },
    {
      "cell_type": "markdown",
      "metadata": {
        "id": "YjgMmv6MA0E8"
      },
      "source": [
        "Given a string, return the string made of its first two chars, so the String \"Hello\" yields \"He\". If the string is shorter than length 2, return whatever there is, so \"X\" yields \"X\", and the empty string \"\" yields the empty string \"\".\r\n",
        "\r\n",
        "\r\n",
        "first_two('Hello') → 'He'\r\n",
        "\r\n",
        "first_two('abcdefg') → 'ab'\r\n",
        "\r\n",
        "first_two('ab') → 'ab'"
      ]
    },
    {
      "cell_type": "code",
      "metadata": {
        "colab": {
          "base_uri": "https://localhost:8080/"
        },
        "id": "aVQb8OL_A3xU",
        "outputId": "2ef563d8-016b-4329-c539-ffb778cd6997"
      },
      "source": [
        "def first_two(str):\r\n",
        "  if len(str) <= 2:\r\n",
        "    return str\r\n",
        "  else:\r\n",
        "    return str[0:2]\r\n",
        "print(first_two(\"abcdefg\"))\r\n"
      ],
      "execution_count": 2,
      "outputs": [
        {
          "output_type": "stream",
          "text": [
            "ab\n"
          ],
          "name": "stdout"
        }
      ]
    },
    {
      "cell_type": "markdown",
      "metadata": {
        "id": "9bLh8ojOBnAn"
      },
      "source": [
        "Given an array of ints length 3, return an array with the elements \"rotated left\" so {1, 2, 3} yields {2, 3, 1}.\r\n",
        "\r\n",
        "\r\n",
        "rotate_left3([1, 2, 3]) → [2, 3, 1]\r\n",
        "\r\n",
        "rotate_left3([5, 11, 9]) → [11, 9, 5]\r\n",
        "\r\n",
        "rotate_left3([7, 0, 0]) → [0, 0, 7]"
      ]
    },
    {
      "cell_type": "code",
      "metadata": {
        "colab": {
          "base_uri": "https://localhost:8080/"
        },
        "id": "RRAtrLDsBqzL",
        "outputId": "a6c1a13f-5d86-4e1f-fdfb-f83eb3199a96"
      },
      "source": [
        "\r\n",
        "def rotate_left3(nums):\r\n",
        "  temp1 = nums[-1]\r\n",
        "  temp2 = nums[0]\r\n",
        "  \r\n",
        "  nums[0] = nums[1]\r\n",
        "  nums[1] = temp1\r\n",
        "  nums[-1] = temp2\r\n",
        "  return nums\r\n",
        "print(rotate_left3([1,2,3]))\r\n",
        "\r\n",
        "\r\n",
        "#alt solution for larger values or arr\r\n",
        "a = [1,2,3,4,5]\r\n",
        "t = a[0]\r\n",
        "for i in range(1,len(a)):\r\n",
        "  \r\n",
        "  a[i - 1] = a[i]\r\n",
        "\r\n",
        "a[-1] = t\r\n",
        "print(a)\r\n",
        "  \r\n",
        "\r\n",
        "  "
      ],
      "execution_count": 33,
      "outputs": [
        {
          "output_type": "stream",
          "text": [
            "[2, 3, 1]\n",
            "[2, 3, 4, 5, 1]\n"
          ],
          "name": "stdout"
        }
      ]
    },
    {
      "cell_type": "markdown",
      "metadata": {
        "id": "li35YMc5D8n6"
      },
      "source": [
        "Given 2 ints, a and b, return their sum. However, sums in the range 10..19 inclusive, are forbidden, so in that case just return 20.\r\n",
        "\r\n",
        "\r\n",
        "sorta_sum(3, 4) → 7\r\n",
        "\r\n",
        "sorta_sum(9, 4) → 20\r\n",
        "\r\n",
        "sorta_sum(10, 11) → 21"
      ]
    },
    {
      "cell_type": "code",
      "metadata": {
        "colab": {
          "base_uri": "https://localhost:8080/"
        },
        "id": "4Sz9kECZEC1m",
        "outputId": "ccfab97a-ac80-4f54-aede-9f0d7dd0eb75"
      },
      "source": [
        "def sota_sums(a ,b):\r\n",
        "  sum = a + b\r\n",
        "  if sum >= 10 and sum <= 19:\r\n",
        "    return 20\r\n",
        "  else:\r\n",
        "    return sum\r\n",
        "print(sota_sums(10,4))"
      ],
      "execution_count": 8,
      "outputs": [
        {
          "output_type": "stream",
          "text": [
            "20\n"
          ],
          "name": "stdout"
        }
      ]
    },
    {
      "cell_type": "markdown",
      "metadata": {
        "id": "eIktF6NfEhYO"
      },
      "source": [
        "For this problem, we'll round an int value up to the next multiple of 10 if its rightmost digit is 5 or more, so 15 rounds up to 20. Alternately, round down to the previous multiple of 10 if its rightmost digit is less than 5, so 12 rounds down to 10. Given 3 ints, a b c, return the sum of their rounded values. To avoid code repetition, write a separate helper \"def round10(num):\" and call it 3 times. Write the helper entirely below and at the same indent level as round_sum().\r\n",
        "\r\n",
        "\r\n",
        "round_sum(16, 17, 18) → 60\r\n",
        "\r\n",
        "round_sum(12, 13, 14) → 30\r\n",
        "\r\n",
        "round_sum(6, 4, 4) → 10"
      ]
    },
    {
      "cell_type": "code",
      "metadata": {
        "colab": {
          "base_uri": "https://localhost:8080/"
        },
        "id": "rynCZxHRGlDT",
        "outputId": "e94c3be6-fa14-4c0f-f1ad-5d9af7fa8f63"
      },
      "source": [
        "def round_sum(a, b, c):\r\n",
        "  return round10(a) + round10(b) + round10(c)\r\n",
        "  \r\n",
        "def round10(num):\r\n",
        "  if num % 10 >= 5:\r\n",
        "    num = ((num // 10) + 1) * 10\r\n",
        "    return num\r\n",
        "  elif num % 10 < 5 :\r\n",
        "    num = num - (num % 10)\r\n",
        "    return num\r\n",
        "print(round_sum(5,6,7))"
      ],
      "execution_count": 9,
      "outputs": [
        {
          "output_type": "stream",
          "text": [
            "30\n"
          ],
          "name": "stdout"
        }
      ]
    },
    {
      "cell_type": "markdown",
      "metadata": {
        "id": "gBwbU1NfQSmX"
      },
      "source": [
        "Return True if the given string contains an appearance of \"xyz\" where the xyz is not directly preceeded by a period (.). So \"xxyz\" counts but \"x.xyz\" does not.\r\n",
        "\r\n",
        "\r\n",
        "xyz_there('abcxyz') → True\r\n",
        "\r\n",
        "xyz_there('abc.xyz') → False\r\n",
        "\r\n",
        "xyz_there('xyz.abc') → True"
      ]
    },
    {
      "cell_type": "code",
      "metadata": {
        "colab": {
          "base_uri": "https://localhost:8080/"
        },
        "id": "aPGq9DxDQS0n",
        "outputId": "fe84622c-76fb-435e-a76b-fe319c5dc1ac"
      },
      "source": [
        "def xyz_there(str):\r\n",
        "  i = 0\r\n",
        "  if len(str) < 3:\r\n",
        "    return False\r\n",
        "  else:\r\n",
        "    while( i <= len(str) - 3):\r\n",
        "      if str[i:i +3] != \"xyz\":\r\n",
        "        i += 1\r\n",
        "      elif str[i:i+3] == \"xyz\" and i >0:\r\n",
        "        if str[i -1] != \".\":\r\n",
        "          return True\r\n",
        "        elif str[i-1] == \".\":\r\n",
        "          i += 3\r\n",
        "      elif str[i:i+3] == \"xyz\" and i == 0:\r\n",
        "        return True\r\n",
        "        \r\n",
        "        \r\n",
        "    return False\r\n",
        "print(xyz_there(\"abcxyz\"))"
      ],
      "execution_count": 18,
      "outputs": [
        {
          "output_type": "stream",
          "text": [
            "True\n"
          ],
          "name": "stdout"
        }
      ]
    },
    {
      "cell_type": "markdown",
      "metadata": {
        "id": "NwSlDKy9Gkfc"
      },
      "source": [
        "\r\n",
        "Given an array of ints, return True if the array contains a 2 next to a 2 somewhere.\r\n",
        "\r\n",
        "\r\n",
        "has22([1, 2, 2]) → True\r\n",
        "\r\n",
        "has22([1, 2, 1, 2]) → False\r\n",
        "\r\n",
        "has22([2, 1, 2]) → False"
      ]
    },
    {
      "cell_type": "code",
      "metadata": {
        "colab": {
          "base_uri": "https://localhost:8080/"
        },
        "id": "LsALbAbrV3h2",
        "outputId": "5264d7a5-0a2c-42f0-cdbf-01f263f0c793"
      },
      "source": [
        "def has22(nums):\r\n",
        "  if len(nums) <= 1:\r\n",
        "    return False\r\n",
        "  else:\r\n",
        "    for i in range(len(nums)):\r\n",
        "      if nums[i] == 2 and (i >= 0 and  i != len(nums) - 1):\r\n",
        "        if nums[i + 1] == 2:\r\n",
        "          return True\r\n",
        "    return False\r\n",
        "print(has22([1,2,2]))\r\n"
      ],
      "execution_count": 26,
      "outputs": [
        {
          "output_type": "stream",
          "text": [
            "True\n"
          ],
          "name": "stdout"
        }
      ]
    }
  ]
}