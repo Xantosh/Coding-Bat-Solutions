{
  "nbformat": 4,
  "nbformat_minor": 0,
  "metadata": {
    "colab": {
      "name": "Coding Bat Session 3.ipynb",
      "provenance": [],
      "authorship_tag": "ABX9TyN7Y/kYuMwrTufarYRq528o",
      "include_colab_link": true
    },
    "kernelspec": {
      "name": "python3",
      "display_name": "Python 3"
    }
  },
  "cells": [
    {
      "cell_type": "markdown",
      "metadata": {
        "id": "view-in-github",
        "colab_type": "text"
      },
      "source": [
        "<a href=\"https://colab.research.google.com/github/Xantosh/Coding-Bat-Solutions/blob/main/Coding_Bat_Session_3.ipynb\" target=\"_parent\"><img src=\"https://colab.research.google.com/assets/colab-badge.svg\" alt=\"Open In Colab\"/></a>"
      ]
    },
    {
      "cell_type": "markdown",
      "metadata": {
        "id": "ebs-Yw9yMfZ7"
      },
      "source": [
        "Given a string, return a new string made of every other char starting with the first, so \"Hello\" yields \"Hlo\".\r\n",
        "\r\n",
        "\r\n",
        "string_bits('Hello') → 'Hlo'\r\n",
        "\r\n",
        "string_bits('Hi') → 'H'\r\n",
        "\r\n",
        "string_bits('Heeololeo') → 'Hello'"
      ]
    },
    {
      "cell_type": "code",
      "metadata": {
        "colab": {
          "base_uri": "https://localhost:8080/"
        },
        "id": "wXLqDWTvMT0j",
        "outputId": "a6d1a018-4239-4271-c459-141deb1b0d1f"
      },
      "source": [
        "def string_bits(s):\r\n",
        "    if len(s) < 3:\r\n",
        "        return s[0]\r\n",
        "    else:\r\n",
        "        return s[0::2]\r\n",
        "\r\n",
        "print(string_bits(\"Hello\"))\r\n",
        "print(string_bits('Hi'))\r\n",
        "print(string_bits('Heeololeo'))\r\n",
        "\r\n",
        "\r\n",
        "#alt solution:\r\n",
        "def alt(s):\r\n",
        "    reult = \"\"\r\n",
        "    for i in range(len(s)):\r\n",
        "        if i % 2 == 0:\r\n",
        "            reult = reult + s[i]\r\n",
        "    return reult\r\n",
        "print(alt('Heeololeo'))\r\n",
        "\r\n",
        "\r\n"
      ],
      "execution_count": 17,
      "outputs": [
        {
          "output_type": "stream",
          "text": [
            "Hlo\n",
            "H\n",
            "Hello\n",
            "Hello\n"
          ],
          "name": "stdout"
        }
      ]
    },
    {
      "cell_type": "markdown",
      "metadata": {
        "id": "EoVWyAJxSbbD"
      },
      "source": [
        "The web is built with HTML strings like \"<i>Yay</i>\" which draws Yay as italic text. In this example, the \"i\" tag makes <i> and </i> which surround the word \"Yay\". Given tag and word strings, create the HTML string with tags around the word, e.g. \"<i>Yay</i>\".\r\n",
        "\r\n",
        "\r\n",
        "make_tags('i', 'Yay') → '<i>Yay</i>'\r\n",
        "\r\n",
        "make_tags('i', 'Hello') → '<i>Hello</i>'\r\n",
        "\r\n",
        "make_tags('cite', 'Yay') → '<cite>Yay</cite>'"
      ]
    },
    {
      "cell_type": "code",
      "metadata": {
        "colab": {
          "base_uri": "https://localhost:8080/"
        },
        "id": "afDH5OMANAxB",
        "outputId": "0133d343-4461-49b7-9ecb-8c074fe4de8b"
      },
      "source": [
        "def make_tags(tag,word):\r\n",
        "    return \"<\"+ tag +\">\"+word+\"<\"+\"/\"+tag+\">\"\r\n",
        "print(make_tags('i', 'Yay'))"
      ],
      "execution_count": 20,
      "outputs": [
        {
          "output_type": "stream",
          "text": [
            "<i>Yay</i>\n"
          ],
          "name": "stdout"
        }
      ]
    },
    {
      "cell_type": "markdown",
      "metadata": {
        "id": "3e32zRSxTe3m"
      },
      "source": [
        "Return an int array length 3 containing the first 3 digits of pi, {3, 1, 4}.\r\n",
        "\r\n",
        "\r\n",
        "make_pi() → [3, 1, 4]\r\n"
      ]
    },
    {
      "cell_type": "code",
      "metadata": {
        "colab": {
          "base_uri": "https://localhost:8080/"
        },
        "id": "Vj_EnD7LSiVP",
        "outputId": "502d05c5-02c5-4380-822f-703b578c7023"
      },
      "source": [
        "def make_pi():\r\n",
        "    return [3,1,4]\r\n",
        "print(make_pi())"
      ],
      "execution_count": 22,
      "outputs": [
        {
          "output_type": "stream",
          "text": [
            "[3, 1, 4]\n"
          ],
          "name": "stdout"
        }
      ]
    },
    {
      "cell_type": "markdown",
      "metadata": {
        "id": "5yw3zakST1gl"
      },
      "source": [
        "You and your date are trying to get a table at a restaurant. The parameter \"you\" is the stylishness of your clothes, in the range 0..10, and \"date\" is the stylishness of your date's clothes. The result getting the table is encoded as an int value with 0=no, 1=maybe, 2=yes. If either of you is very stylish, 8 or more, then the result is 2 (yes). With the exception that if either of you has style of 2 or less, then the result is 0 (no). Otherwise the result is 1 (maybe).\r\n",
        "\r\n",
        "\r\n",
        "date_fashion(5, 10) → 2\r\n",
        "\r\n",
        "date_fashion(5, 2) → 0\r\n",
        "\r\n",
        "date_fashion(5, 5) → 1"
      ]
    },
    {
      "cell_type": "code",
      "metadata": {
        "colab": {
          "base_uri": "https://localhost:8080/"
        },
        "id": "5z62kbGFT7tk",
        "outputId": "f639e0eb-93d3-40f4-8da8-85b053aab733"
      },
      "source": [
        "def date_fashion(you,date):\r\n",
        "    if (you <= 2) or (date <= 2):\r\n",
        "        return 0\r\n",
        "    elif (you >= 8) or (date >= 8):\r\n",
        "        return 2\r\n",
        "    else:\r\n",
        "        return 1\r\n",
        "print(date_fashion(5, 10))\r\n",
        "print(date_fashion(5, 2))\r\n",
        "print(date_fashion(5, 5))"
      ],
      "execution_count": 26,
      "outputs": [
        {
          "output_type": "stream",
          "text": [
            "2\n",
            "0\n",
            "1\n"
          ],
          "name": "stdout"
        }
      ]
    },
    {
      "cell_type": "markdown",
      "metadata": {
        "id": "GKyHvyDtaI6n"
      },
      "source": [
        "Given 3 int values, a b c, return their sum. However, if one of the values is the same as another of the values, it does not count towards the sum.\r\n",
        "\r\n",
        "\r\n",
        "lone_sum(1, 2, 3) → 6\r\n",
        "\r\n",
        "lone_sum(3, 2, 3) → 2\r\n",
        "\r\n",
        "lone_sum(3, 3, 3) → 0"
      ]
    },
    {
      "cell_type": "code",
      "metadata": {
        "colab": {
          "base_uri": "https://localhost:8080/"
        },
        "id": "e7GMK3f0aIsP",
        "outputId": "c04ba926-5b35-4921-be26-b702584405c7"
      },
      "source": [
        "def lone_sum(a, b, c):\r\n",
        "  s1 = a + b \r\n",
        "  s2 = a + c\r\n",
        "  s3 = b + c\r\n",
        "  s4 = a + b + c\r\n",
        "  if (s4 // 3 == a) and (s4 // 3 == b) and (s4 // 3 == c):\r\n",
        "    return 0\r\n",
        "  elif (s1 // 2 == a) and (s1 // 2 == b):\r\n",
        "    return c\r\n",
        "  elif (s2 // 2 == a) and ( s2 // 2 == c):\r\n",
        "    return b\r\n",
        "  elif (s3 // 2 == b) and (s3 // 2 == c):\r\n",
        "    return a\r\n",
        "  \r\n",
        "  else:\r\n",
        "    return a + b + c\r\n",
        "print(lone_sum(3,3,3))\r\n",
        "  "
      ],
      "execution_count": 28,
      "outputs": [
        {
          "output_type": "stream",
          "text": [
            "0\n"
          ],
          "name": "stdout"
        }
      ]
    },
    {
      "cell_type": "markdown",
      "metadata": {
        "id": "-8VzVpAMd7A2"
      },
      "source": [
        "Return True if the string \"cat\" and \"dog\" appear the same number of times in the given string.\r\n",
        "\r\n",
        "\r\n",
        "cat_dog('catdog') → True\r\n",
        "\r\n",
        "cat_dog('catcat') → False\r\n",
        "\r\n",
        "cat_dog('1cat1cadodog') → True"
      ]
    },
    {
      "cell_type": "code",
      "metadata": {
        "colab": {
          "base_uri": "https://localhost:8080/"
        },
        "id": "qBW8ss0ScgEG",
        "outputId": "8e74fcae-ea93-4b96-c824-fdb283c89fd4"
      },
      "source": [
        "def cat_dog(stri):\r\n",
        "  b = (stri)\r\n",
        "  a = str(b)\r\n",
        "  \r\n",
        "  i = 0\r\n",
        "  j = 0 \r\n",
        "  count_cat = 0\r\n",
        "  count_dog = 0\r\n",
        "  while ( i <= len(a)- 3):\r\n",
        "    if str(a[i] + a[i + 1] + a[i + 2]) == \"cat\" :\r\n",
        "      count_cat += 1\r\n",
        "      i += 3\r\n",
        "    else:\r\n",
        "      i += 1\r\n",
        "\r\n",
        "  while ( j <= len(a) - 3):\r\n",
        "    if a[j] + a[j + 1] + a[j + 2] == \"dog\" :\r\n",
        "      count_dog += 1\r\n",
        "      j += 3\r\n",
        "    else:\r\n",
        "      j += 1\r\n",
        "  if count_cat == count_dog:\r\n",
        "    return True\r\n",
        "  else:\r\n",
        "    return False\r\n",
        "print(cat_dog('catdog'))\r\n",
        "print(cat_dog('1cat1cadodog'))\r\n",
        "  "
      ],
      "execution_count": 40,
      "outputs": [
        {
          "output_type": "stream",
          "text": [
            "True\n",
            "True\n"
          ],
          "name": "stdout"
        }
      ]
    },
    {
      "cell_type": "markdown",
      "metadata": {
        "id": "N4sA2tccgZim"
      },
      "source": [
        "Return the \"centered\" average of an array of ints, which we'll say is the mean average of the values, except ignoring the largest and smallest values in the array. If there are multiple copies of the smallest value, ignore just one copy, and likewise for the largest value. Use int division to produce the final average. You may assume that the array is length 3 or more.\r\n",
        "\r\n",
        "\r\n",
        "centered_average([1, 2, 3, 4, 100]) → 3\r\n",
        "\r\n",
        "centered_average([1, 1, 5, 5, 10, 8, 7]) → 5\r\n",
        "\r\n",
        "centered_average([-10, -4, -2, -4, -2, 0]) → -3"
      ]
    },
    {
      "cell_type": "code",
      "metadata": {
        "colab": {
          "base_uri": "https://localhost:8080/"
        },
        "id": "ec8F-WFAgZXv",
        "outputId": "c80e8e5d-ec43-4905-d9a6-b05ed426ce32"
      },
      "source": [
        "def centered_average(nums):\r\n",
        "  sum = 0\r\n",
        "  average = 0\r\n",
        "  l = max(nums) #finding largest elemnt is a list.\r\n",
        "\r\n",
        "  s = min(nums) #finding smallest element in the list.\r\n",
        "  for n in nums:\r\n",
        "    sum = sum + n\r\n",
        "  center_average = (sum - l - s) // (len(nums) - 2 )\r\n",
        "  return center_average\r\n",
        "print(centered_average([-10, -4, -2, -4, -2, 0]))\r\n",
        "print(centered_average([1, 2, 3, 4, 100]))\r\n",
        "\r\n",
        "  \r\n",
        "  \r\n",
        "\r\n",
        "       \r\n",
        "\r\n"
      ],
      "execution_count": 43,
      "outputs": [
        {
          "output_type": "stream",
          "text": [
            "-3\n",
            "3\n"
          ],
          "name": "stdout"
        }
      ]
    }
  ]
}