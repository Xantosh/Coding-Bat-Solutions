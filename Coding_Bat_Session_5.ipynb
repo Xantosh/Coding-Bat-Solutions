{
  "nbformat": 4,
  "nbformat_minor": 0,
  "metadata": {
    "colab": {
      "name": "Coding Bat Session 5.ipynb",
      "provenance": [],
      "authorship_tag": "ABX9TyNvdPwN2ojzkFLuaACMCrFe",
      "include_colab_link": true
    },
    "kernelspec": {
      "name": "python3",
      "display_name": "Python 3"
    }
  },
  "cells": [
    {
      "cell_type": "markdown",
      "metadata": {
        "id": "view-in-github",
        "colab_type": "text"
      },
      "source": [
        "<a href=\"https://colab.research.google.com/github/Xantosh/Coding-Bat-Solutions/blob/main/Coding_Bat_Session_5.ipynb\" target=\"_parent\"><img src=\"https://colab.research.google.com/assets/colab-badge.svg\" alt=\"Open In Colab\"/></a>"
      ]
    },
    {
      "cell_type": "markdown",
      "metadata": {
        "id": "N7oHI3ZT9q_Z"
      },
      "source": [
        "Given a string, return the count of the number of times that a substring length 2 appears in the string and also as the last 2 chars of the string, so \"hixxxhi\" yields 1 (we won't count the end substring).\r\n",
        "\r\n",
        "\r\n",
        "last2('hixxhi') → 1\r\n",
        "\r\n",
        "last2('xaxxaxaxx') → 1\r\n",
        "\r\n",
        "last2('axxxaaxx') → 2\r\n"
      ]
    },
    {
      "cell_type": "code",
      "metadata": {
        "colab": {
          "base_uri": "https://localhost:8080/"
        },
        "id": "ln8MFx7l9maE",
        "outputId": "4e694182-759d-4903-8661-cd1aebfed1c2"
      },
      "source": [
        "def last2(s):\r\n",
        "  last = s[-2::]\r\n",
        "  count = 0\r\n",
        "  i = 0\r\n",
        "  while(i <= len(s) - 3):\r\n",
        "    if s[i] + s[i + 1] == last:\r\n",
        "      count += 1\r\n",
        "      i += 1\r\n",
        "    else:\r\n",
        "      i += 1\r\n",
        "  return count\r\n",
        "print(last2(\"hixxhi\"))\r\n",
        "  "
      ],
      "execution_count": 6,
      "outputs": [
        {
          "output_type": "stream",
          "text": [
            "1\n"
          ],
          "name": "stdout"
        }
      ]
    },
    {
      "cell_type": "markdown",
      "metadata": {
        "id": "TLAPmRurBat7"
      },
      "source": [
        "Given a string, return a new string made of 3 copies of the last 2 chars of the original string. The string length will be at least 2.\r\n",
        "\r\n",
        "\r\n",
        "extra_end('Hello') → 'lololo'\r\n",
        "\r\n",
        "extra_end('ab') → 'ababab'\r\n",
        "\r\n",
        "extra_end('Hi') → 'HiHiHi'"
      ]
    },
    {
      "cell_type": "code",
      "metadata": {
        "colab": {
          "base_uri": "https://localhost:8080/"
        },
        "id": "x375Xuwb_mQY",
        "outputId": "8a7e2f44-2048-4c01-f18e-a5c46cdd9bc9"
      },
      "source": [
        "def extra_end(str):\r\n",
        "  new = \"\"\r\n",
        "  for i in range(len(str) - 2 ,len(str)):\r\n",
        "    new += str[i]\r\n",
        "  new = new * 3\r\n",
        "  return new\r\n",
        "print(extra_end(\"ab\"))"
      ],
      "execution_count": 7,
      "outputs": [
        {
          "output_type": "stream",
          "text": [
            "ababab\n"
          ],
          "name": "stdout"
        }
      ]
    },
    {
      "cell_type": "markdown",
      "metadata": {
        "id": "b5YllwwOB1bf"
      },
      "source": [
        "Given an array of ints length 3, return the sum of all the elements.\r\n",
        "\r\n",
        "\r\n",
        "sum3([1, 2, 3]) → 6\r\n",
        "\r\n",
        "sum3([5, 11, 2]) → 18\r\n",
        "\r\n",
        "sum3([7, 0, 0]) → 7"
      ]
    },
    {
      "cell_type": "code",
      "metadata": {
        "colab": {
          "base_uri": "https://localhost:8080/"
        },
        "id": "ACTqlu28B1wH",
        "outputId": "355d4d3e-d330-40aa-f00e-6564f6d40f43"
      },
      "source": [
        "def sum3(nums):\r\n",
        "  sum = 0\r\n",
        "  for n in nums:\r\n",
        "    sum += n\r\n",
        "  return sum\r\n",
        "print(sum3([1,2,3]))\r\n",
        "\r\n",
        "#alt solution\r\n",
        "def s(nums):\r\n",
        "  return sum(nums)\r\n",
        "print(s([1,2,3]))"
      ],
      "execution_count": 10,
      "outputs": [
        {
          "output_type": "stream",
          "text": [
            "6\n",
            "6\n"
          ],
          "name": "stdout"
        }
      ]
    },
    {
      "cell_type": "markdown",
      "metadata": {
        "id": "8GWK81tACpDD"
      },
      "source": [
        "You are driving a little too fast, and a police officer stops you. Write code to compute the result, encoded as an int value: 0=no ticket, 1=small ticket, 2=big ticket. If speed is 60 or less, the result is 0. If speed is between 61 and 80 inclusive, the result is 1. If speed is 81 or more, the result is 2. Unless it is your birthday -- on that day, your speed can be 5 higher in all cases.\r\n",
        "\r\n",
        "\r\n",
        "caught_speeding(60, False) → 0\r\n",
        "\r\n",
        "caught_speeding(65, False) → 1\r\n",
        "\r\n",
        "caught_speeding(65, True) → 0"
      ]
    },
    {
      "cell_type": "code",
      "metadata": {
        "colab": {
          "base_uri": "https://localhost:8080/"
        },
        "id": "9TKxaPv-CsP2",
        "outputId": "ab5c95c2-4777-417b-9c07-5640d77aaecb"
      },
      "source": [
        "def caught_speeding(speed ,is_birthday):\r\n",
        "  if is_birthday:\r\n",
        "    if speed <= 65:\r\n",
        "      return 0\r\n",
        "    elif speed >= 66 and speed <= 85:\r\n",
        "      return 1\r\n",
        "    elif speed >= 86:\r\n",
        "      return 2 \r\n",
        "  else:\r\n",
        "    if speed <= 60 :\r\n",
        "      return 0\r\n",
        "    elif speed >= 61 and speed <= 80 :\r\n",
        "      return 1\r\n",
        "    elif speed >= 81:\r\n",
        "      return 2\r\n",
        "print(caught_speeding(65, False))"
      ],
      "execution_count": 13,
      "outputs": [
        {
          "output_type": "stream",
          "text": [
            "1\n"
          ],
          "name": "stdout"
        }
      ]
    },
    {
      "cell_type": "markdown",
      "metadata": {
        "id": "akh_gERXHT0v"
      },
      "source": [
        "Given 3 int values, a b c, return their sum. However, if any of the values is a teen -- in the range 13..19 inclusive -- then that value counts as 0, except 15 and 16 do not count as a teens. Write a separate helper \"def fix_teen(n):\"that takes in an int value and returns that value fixed for the teen rule. In this way, you avoid repeating the teen code 3 times (i.e. \"decomposition\"). Define the helper below and at the same indent level as the main no_teen_sum().\r\n",
        "\r\n",
        "\r\n",
        "no_teen_sum(1, 2, 3) → 6\r\n",
        "\r\n",
        "no_teen_sum(2, 13, 1) → 3\r\n",
        "\r\n",
        "no_teen_sum(2, 1, 14) → 3"
      ]
    },
    {
      "cell_type": "code",
      "metadata": {
        "colab": {
          "base_uri": "https://localhost:8080/"
        },
        "id": "LYA-1sJcHTr4",
        "outputId": "c1551ba7-dc7a-439e-cf29-0654b7dbdd47"
      },
      "source": [
        "def no_teen_sum(a,b,c):\r\n",
        "  return fix_teen(a) + fix_teen(b) + fix_teen(c)\r\n",
        "\r\n",
        "\r\n",
        "def fix_teen(n):\r\n",
        "  if (n >= 13 and n <= 19):\r\n",
        "    if n == 15 or n == 16:\r\n",
        "      return n\r\n",
        "    else:\r\n",
        "      return 0\r\n",
        "  else:\r\n",
        "    return n\r\n",
        "print(no_teen_sum(2,15,17))"
      ],
      "execution_count": 21,
      "outputs": [
        {
          "output_type": "stream",
          "text": [
            "17\n"
          ],
          "name": "stdout"
        }
      ]
    },
    {
      "cell_type": "markdown",
      "metadata": {
        "id": "IT-Z-ztFLwHu"
      },
      "source": [
        "\r\n",
        "Given two strings, return True if either of the strings appears at the very end of the other string, ignoring upper/lower case differences (in other words, the computation should not be \"case sensitive\"). Note: s.lower() returns the lowercase version of a string.\r\n",
        "\r\n",
        "\r\n",
        "end_other('Hiabc', 'abc') → True\r\n",
        "\r\n",
        "end_other('AbC', 'HiaBc') → True\r\n",
        "\r\n",
        "end_other('abc', 'abXabc') → True"
      ]
    },
    {
      "cell_type": "code",
      "metadata": {
        "colab": {
          "base_uri": "https://localhost:8080/"
        },
        "id": "o7Y5jpGTEXjP",
        "outputId": "1ee5418e-c8d2-467a-fb42-0ba090e11498"
      },
      "source": [
        "def end_other(a, b):\r\n",
        "  a = a.lower()\r\n",
        "  b = b.lower()\r\n",
        "  if len(a) == len(b):\r\n",
        "    return a == b\r\n",
        "  else:\r\n",
        "    if len(a) > len(b):\r\n",
        "      return b == a[len(a) - len(b)::]\r\n",
        "    else :\r\n",
        "      return a == b[len(b) - len(a)::]\r\n",
        "print(end_other('Hiabc', 'abc'))\r\n",
        "\r\n",
        "#virgin solution\r\n",
        "def end_other(a, b):\r\n",
        "  a = a.lower()\r\n",
        "  b = b.lower()\r\n",
        "  return (b.endswith(a) or a.endswith(b))\r\n"
      ],
      "execution_count": 22,
      "outputs": [
        {
          "output_type": "stream",
          "text": [
            "True\n"
          ],
          "name": "stdout"
        }
      ]
    },
    {
      "cell_type": "markdown",
      "metadata": {
        "id": "yu6IWUfPMD34"
      },
      "source": [
        "Return the sum of the numbers in the array, except ignore sections of numbers starting with a 6 and extending to the next 7 (every 6 will be followed by at least one 7). Return 0 for no numbers.\r\n",
        "\r\n",
        "\r\n",
        "sum67([1, 2, 2]) → 5\r\n",
        "\r\n",
        "sum67([1, 2, 2, 6, 99, 99, 7]) → 5\r\n",
        "\r\n",
        "sum67([1, 1, 6, 7, 2]) → 4"
      ]
    },
    {
      "cell_type": "code",
      "metadata": {
        "colab": {
          "base_uri": "https://localhost:8080/"
        },
        "id": "EyhEdfoNMDjw",
        "outputId": "c6a7c1e9-e263-4da7-b817-c14cc468bc92"
      },
      "source": [
        "def sum67(nums):\r\n",
        "  i = 0\r\n",
        "  sum = 0\r\n",
        "  if len(nums) == 0:\r\n",
        "    return 0\r\n",
        "  else:\r\n",
        "    while( i <= len(nums) - 1):\r\n",
        "      if nums[i] == 6 and i != len(nums) -1:\r\n",
        "        j  = i + 1\r\n",
        "        while(nums[j] != 7):\r\n",
        "          sum = sum\r\n",
        "          j += 1\r\n",
        "        i = j + 1\r\n",
        "        \r\n",
        "          \r\n",
        "      elif nums[i] != 6:\r\n",
        "        sum = sum +nums[i]\r\n",
        "        i  +=  1\r\n",
        "  return sum\r\n",
        "print(sum67([1, 2, 2, 6, 99, 99, 7]))"
      ],
      "execution_count": 23,
      "outputs": [
        {
          "output_type": "stream",
          "text": [
            "5\n"
          ],
          "name": "stdout"
        }
      ]
    }
  ]
}