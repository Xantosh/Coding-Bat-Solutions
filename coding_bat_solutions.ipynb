{
  "nbformat": 4,
  "nbformat_minor": 0,
  "metadata": {
    "colab": {
      "name": "coding bat solutions.ipynb",
      "provenance": []
    },
    "kernelspec": {
      "name": "python3",
      "display_name": "Python 3"
    }
  },
  "cells": [
    {
      "cell_type": "markdown",
      "metadata": {
        "id": "tbYxHgkg3NBr"
      },
      "source": [
        "This session is about the codingbat solution ."
      ]
    },
    {
      "cell_type": "markdown",
      "metadata": {
        "id": "HTd59ut86Dsv"
      },
      "source": [
        "1.The parameter weekday is True if it is a weekday, and the parameter vacation is True if we are on vacation. We sleep in if it is not a weekday or we're on vacation. Return True if we sleep in.\n",
        "\n",
        "\n",
        "sleep_in(False, False) → True\n",
        "\n",
        "sleep_in(True, False) → False\n",
        "\n",
        "sleep_in(False, True) → True\n"
      ]
    },
    {
      "cell_type": "code",
      "metadata": {
        "id": "ITNMc9_m3qO4",
        "colab": {
          "base_uri": "https://localhost:8080/",
          "height": 35
        },
        "outputId": "a3e1061d-0645-4068-b9e1-059d478b2fb1"
      },
      "source": [
        "def sleep_in(weekday,vacation):\n",
        " return not weekday or vacation\n",
        "print(sleep_in(True, False))"
      ],
      "execution_count": null,
      "outputs": [
        {
          "output_type": "stream",
          "text": [
            "False\n"
          ],
          "name": "stdout"
        }
      ]
    },
    {
      "cell_type": "markdown",
      "metadata": {
        "id": "SWrUT-046O2z"
      },
      "source": [
        "\n",
        "2.Given a string and a non-negative int n, return a larger string that is n copies of the original string.\n",
        "\n",
        "\n",
        "string_times('Hi', 2) → 'HiHi'\n",
        "\n",
        "string_times('Hi', 3) → 'HiHiHi'\n",
        "\n",
        "string_times('Hi', 1) → 'Hi'"
      ]
    },
    {
      "cell_type": "code",
      "metadata": {
        "id": "RzMcYMlN6M29",
        "colab": {
          "base_uri": "https://localhost:8080/",
          "height": 35
        },
        "outputId": "3ed9fdb3-a41e-48f8-afd7-8cbaf14a713a"
      },
      "source": [
        "def string_times(str,n):\n",
        "  return str * n\n",
        "print(string_times(\"Hi\",2))"
      ],
      "execution_count": null,
      "outputs": [
        {
          "output_type": "stream",
          "text": [
            "HiHi\n"
          ],
          "name": "stdout"
        }
      ]
    },
    {
      "cell_type": "markdown",
      "metadata": {
        "id": "l8kOHtOH8S8J"
      },
      "source": [
        "\n",
        "3.Given a string name, e.g. \"Bob\", return a greeting of the form \"Hello Bob!\".\n",
        "\n",
        "\n",
        "hello_name('Bob') → 'Hello Bob!'\n",
        "\n",
        "hello_name('Alice') → 'Hello Alice!'\n",
        "\n",
        "hello_name('X') → 'Hello X!'"
      ]
    },
    {
      "cell_type": "code",
      "metadata": {
        "id": "qo4NFy-88fph",
        "colab": {
          "base_uri": "https://localhost:8080/",
          "height": 35
        },
        "outputId": "92c8faf5-0c37-41d4-a8d9-55505cf76734"
      },
      "source": [
        "def hello_name(name):\n",
        "  return \"'Hello' \" +\"'\"+ name + \"!\"+\"'\"\n",
        "print(hello_name('Bob'))"
      ],
      "execution_count": null,
      "outputs": [
        {
          "output_type": "stream",
          "text": [
            "Hello Bob!\n"
          ],
          "name": "stdout"
        }
      ]
    },
    {
      "cell_type": "markdown",
      "metadata": {
        "id": "DCthCspa9wLm"
      },
      "source": [
        "4.Given an array of ints, return True if 6 appears as either the first or last element in the array. The array will be length 1 or more.\n",
        "\n",
        "\n",
        "first_last6([1, 2, 6]) → True\n",
        "\n",
        "first_last6([6, 1, 2, 3]) → True\n",
        "\n",
        "first_last6([13, 6, 1, 2, 3]) → False"
      ]
    },
    {
      "cell_type": "code",
      "metadata": {
        "id": "FB-2kEk69158",
        "colab": {
          "base_uri": "https://localhost:8080/",
          "height": 35
        },
        "outputId": "1f23f1ec-0c64-47e3-f85f-ba26a7254450"
      },
      "source": [
        "def first_last6(list6):\n",
        "\n",
        "    if list6[0] == 6 or list6[-1] == 6:   #last element in list is given by [-1]\n",
        "      return True\n",
        "    else:\n",
        "      return False\n",
        "print(first_last6([6,1,2,3])) "
      ],
      "execution_count": null,
      "outputs": [
        {
          "output_type": "stream",
          "text": [
            "True\n"
          ],
          "name": "stdout"
        }
      ]
    },
    {
      "cell_type": "markdown",
      "metadata": {
        "id": "DBaK9iUJBPqH"
      },
      "source": [
        "5.Given a string, return a string where for every char in the original, there are two chars.\n",
        "\n",
        "\n",
        "double_char('The') → 'TThhee'\n",
        "\n",
        "double_char('AAbb') → 'AAAAbbbb'\n",
        "\n",
        "double_char('Hi-There') → 'HHii--TThheerree'"
      ]
    },
    {
      "cell_type": "code",
      "metadata": {
        "id": "ttl1V9uHBWbc",
        "colab": {
          "base_uri": "https://localhost:8080/",
          "height": 35
        },
        "outputId": "3cef9a64-5e8b-48b2-c7c5-0dcf0fe41b03"
      },
      "source": [
        "def double_char(str2):\n",
        "  a = \"\"\n",
        "  for x in range(0,(len(str2))):\n",
        "    a += str2[x]*2 \n",
        "  return a  \n",
        "print(double_char('The'))"
      ],
      "execution_count": null,
      "outputs": [
        {
          "output_type": "stream",
          "text": [
            "TThhee\n"
          ],
          "name": "stdout"
        }
      ]
    },
    {
      "cell_type": "code",
      "metadata": {
        "id": "NZMeJTW0FVJ4",
        "colab": {
          "base_uri": "https://localhost:8080/",
          "height": 35
        },
        "outputId": "09da016d-2227-4b89-83a1-940a45c9dc35"
      },
      "source": [
        "#Alt soln\n",
        "def double_char(str2):\n",
        "  a = \"\"\n",
        "  for x in str2:\n",
        "    a += x*2\n",
        "  return a  \n",
        "print(double_char('Hi-There'))"
      ],
      "execution_count": null,
      "outputs": [
        {
          "output_type": "stream",
          "text": [
            "HHii--TThheerree\n"
          ],
          "name": "stdout"
        }
      ]
    },
    {
      "cell_type": "markdown",
      "metadata": {
        "id": "Sy4xcnXRKW_L"
      },
      "source": [
        "6.Return the number of even ints in the given array. Note: the % \"mod\" operator computes the remainder, e.g. 5 % 2 is 1.\n",
        "\n",
        "\n",
        "count_evens([2, 1, 2, 3, 4]) → 3\n",
        "\n",
        "count_evens([2, 2, 0]) → 3\n",
        "\n",
        "count_evens([1, 3, 5]) → 0"
      ]
    },
    {
      "cell_type": "code",
      "metadata": {
        "id": "rcM8_uIKKdTF",
        "colab": {
          "base_uri": "https://localhost:8080/",
          "height": 35
        },
        "outputId": "5eab01db-8c28-4edd-c488-d42af4b85306"
      },
      "source": [
        "def count_evens(num):\n",
        "  count = 0\n",
        "  for x in num:\n",
        "    if x % 2 == 0:\n",
        "     count+= 1 \n",
        "  return count\n",
        "print(count_evens([2, 1, 2, 3, 4]))"
      ],
      "execution_count": null,
      "outputs": [
        {
          "output_type": "stream",
          "text": [
            "3\n"
          ],
          "name": "stdout"
        }
      ]
    }
  ]
}